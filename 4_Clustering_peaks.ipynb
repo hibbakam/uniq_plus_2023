{
 "cells": [
  {
   "cell_type": "markdown",
   "id": "e41f8f91-51d9-4453-bf64-a47c7e311b16",
   "metadata": {},
   "source": [
    "# Investigating the 'potenitally sex regulated peaks' \n",
    "\n",
    "So far we've used the peaks I assigned as 'potentially sex regulated' for our random forest model, however the way I've defined these peaks is not very concrete\n",
    "\n",
    "We want to see if there is any structure/patterns in the accessibility of the peaks between our knock out and wildtype samples. \n",
    "\n",
    "To do this we want to plot the accessibility values of these peaks across our different samples and see if they cluster together.\n",
    "A simple way of doing this is to use clustermap which will cluster and plot our accesibility values so that those peaks that have similar patterns across the samples will be next to each other \n",
    "\n",
    "See documentation here: \n",
    "\n",
    "- https://python-charts.com/correlation/clustermap-seaborn/#google_vignette\n",
    "- https://seaborn.pydata.org/generated/seaborn.clustermap.html\n",
    "- https://www.youtube.com/watch?v=crQkHHhY7aY\n",
    "\n"
   ]
  },
  {
   "cell_type": "code",
   "execution_count": 3,
   "id": "379a36eb-3389-4276-8a5f-5fc80104b1ba",
   "metadata": {
    "tags": []
   },
   "outputs": [
    {
     "name": "stdout",
     "output_type": "stream",
     "text": [
      "Mon  7 Aug 2023 16:03:36 BST\n",
      "/Users/charlie/Documents/02_research/03_UNIQ+/UNIQ_plus_2023/uniq_plus_2023/code/1_feature_processing.dir\n"
     ]
    }
   ],
   "source": [
    "!date\n",
    "!pwd"
   ]
  },
  {
   "cell_type": "code",
   "execution_count": null,
   "id": "3782276c-2e07-4176-99b8-f9a5fb125989",
   "metadata": {},
   "outputs": [],
   "source": [
    "import pandas as pd\n",
    "import numpy as np"
   ]
  },
  {
   "cell_type": "markdown",
   "id": "86620227-4348-43cf-9625-3256b9581ecc",
   "metadata": {},
   "source": [
    "This is the stuff we need to add to get seaborn to work "
   ]
  },
  {
   "cell_type": "code",
   "execution_count": 2,
   "id": "47768d8e-2c6c-444b-9148-2a322c332f30",
   "metadata": {
    "tags": []
   },
   "outputs": [
    {
     "ename": "ModuleNotFoundError",
     "evalue": "No module named 'seaborn'",
     "output_type": "error",
     "traceback": [
      "\u001b[0;31m---------------------------------------------------------------------------\u001b[0m",
      "\u001b[0;31mModuleNotFoundError\u001b[0m                       Traceback (most recent call last)",
      "Cell \u001b[0;32mIn[2], line 6\u001b[0m\n\u001b[1;32m      3\u001b[0m \u001b[38;5;28;01mimport\u001b[39;00m \u001b[38;5;21;01mmatplotlib\u001b[39;00m \u001b[38;5;28;01mas\u001b[39;00m \u001b[38;5;21;01mmpl\u001b[39;00m\n\u001b[1;32m      4\u001b[0m \u001b[38;5;28;01mimport\u001b[39;00m \u001b[38;5;21;01mmatplotlib\u001b[39;00m\u001b[38;5;21;01m.\u001b[39;00m\u001b[38;5;21;01mpyplot\u001b[39;00m \u001b[38;5;28;01mas\u001b[39;00m \u001b[38;5;21;01mplt\u001b[39;00m\n\u001b[0;32m----> 6\u001b[0m \u001b[38;5;28;01mimport\u001b[39;00m \u001b[38;5;21;01mseaborn\u001b[39;00m \u001b[38;5;28;01mas\u001b[39;00m \u001b[38;5;21;01msns\u001b[39;00m\n\u001b[1;32m      7\u001b[0m \u001b[38;5;28;01mimport\u001b[39;00m \u001b[38;5;21;01mseaborn\u001b[39;00m\u001b[38;5;21;01m.\u001b[39;00m\u001b[38;5;21;01mobjects\u001b[39;00m \u001b[38;5;28;01mas\u001b[39;00m \u001b[38;5;21;01mso\u001b[39;00m\n",
      "\u001b[0;31mModuleNotFoundError\u001b[0m: No module named 'seaborn'"
     ]
    }
   ],
   "source": [
    "%matplotlib inline\n",
    "\n",
    "import matplotlib as mpl\n",
    "import matplotlib.pyplot as plt\n",
    "\n",
    "import seaborn as sns\n",
    "import seaborn.objects as so"
   ]
  },
  {
   "cell_type": "markdown",
   "id": "a3ad49f0-3d7f-48b5-8528-b4e1c70521ae",
   "metadata": {},
   "source": [
    "1. read in the normalised accessibility values for all peaks "
   ]
  },
  {
   "cell_type": "code",
   "execution_count": 1,
   "id": "8d1d8ae5-9b07-4519-bd20-8eb1ea50b0ad",
   "metadata": {
    "tags": []
   },
   "outputs": [
    {
     "ename": "NameError",
     "evalue": "name 'pd' is not defined",
     "output_type": "error",
     "traceback": [
      "\u001b[0;31m---------------------------------------------------------------------------\u001b[0m",
      "\u001b[0;31mNameError\u001b[0m                                 Traceback (most recent call last)",
      "Cell \u001b[0;32mIn[1], line 1\u001b[0m\n\u001b[0;32m----> 1\u001b[0m normalised_counts \u001b[38;5;241m=\u001b[39m \u001b[43mpd\u001b[49m\u001b[38;5;241m.\u001b[39mread_csv(\u001b[38;5;124m'\u001b[39m\u001b[38;5;124m/project/sims-lab/shared/uniq_plus_2023/annotation_of_peaks/differential_accesibility_analysis/peaks_annoated_with_genotype_and_sex_DA_normalised_counts.tsv.gz\u001b[39m\u001b[38;5;124m'\u001b[39m)\n",
      "\u001b[0;31mNameError\u001b[0m: name 'pd' is not defined"
     ]
    }
   ],
   "source": [
    "normalised_counts = pd.read_csv('/project/sims-lab/shared/uniq_plus_2023/annotation_of_peaks/differential_accesibility_analysis/peaks_annoated_with_genotype_and_sex_DA_normalised_counts.tsv.gz')"
   ]
  },
  {
   "cell_type": "code",
   "execution_count": null,
   "id": "7a97d1d4-2cb6-4e76-b47a-e320491eb3bc",
   "metadata": {},
   "outputs": [],
   "source": [
    "2. have a look at this dataframe - what size is it, are all the columns looking ok, does it have column names and are they formatted correctly? "
   ]
  },
  {
   "cell_type": "code",
   "execution_count": null,
   "id": "a7b18ad2-4241-4dc7-8187-899935263642",
   "metadata": {},
   "outputs": [],
   "source": []
  },
  {
   "cell_type": "code",
   "execution_count": null,
   "id": "666483e7-66fd-4ace-8f2b-012ca61293a8",
   "metadata": {},
   "outputs": [],
   "source": [
    "3. Lets just keep the rows that are the potentially sex regulated ones - there should be about 3000 "
   ]
  },
  {
   "cell_type": "code",
   "execution_count": null,
   "id": "9a2e96bc-e519-4ed0-bc1d-2246d3f3110d",
   "metadata": {},
   "outputs": [],
   "source": []
  },
  {
   "cell_type": "code",
   "execution_count": null,
   "id": "15c63d2e-289a-42f5-abaa-c4947aaa124e",
   "metadata": {},
   "outputs": [],
   "source": []
  },
  {
   "cell_type": "code",
   "execution_count": null,
   "id": "c417a615-cd71-4595-8472-8f00f7840404",
   "metadata": {},
   "outputs": [],
   "source": [
    "4. You might need to scale and centre the data ... look through the tutorials above, what do they do? You might want to log transform the data too"
   ]
  },
  {
   "cell_type": "code",
   "execution_count": null,
   "id": "5ad2357f-6490-4d0e-8931-353bb7d93e5d",
   "metadata": {},
   "outputs": [],
   "source": []
  },
  {
   "cell_type": "code",
   "execution_count": null,
   "id": "b4b714bd-ce93-42f7-b910-084512af2eaf",
   "metadata": {},
   "outputs": [],
   "source": [
    "5. Lets try and plot the data using clustermap "
   ]
  }
 ],
 "metadata": {
  "kernelspec": {
   "display_name": "Python 3 (ipykernel)",
   "language": "python",
   "name": "python3"
  },
  "language_info": {
   "codemirror_mode": {
    "name": "ipython",
    "version": 3
   },
   "file_extension": ".py",
   "mimetype": "text/x-python",
   "name": "python",
   "nbconvert_exporter": "python",
   "pygments_lexer": "ipython3",
   "version": "3.11.0"
  }
 },
 "nbformat": 4,
 "nbformat_minor": 5
}
